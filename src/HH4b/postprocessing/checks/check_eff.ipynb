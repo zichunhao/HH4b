{
 "cells": [
  {
   "cell_type": "markdown",
   "metadata": {
    "vscode": {
     "languageId": "plaintext"
    }
   },
   "source": [
    "# Goal\n",
    "Tagging efficiencies on Hbb for these different working points"
   ]
  },
  {
   "cell_type": "code",
   "execution_count": 10,
   "metadata": {},
   "outputs": [],
   "source": [
    "from pathlib import Path\n",
    "import pandas as pd\n",
    "import numpy as np\n",
    "import mplhep as hep\n",
    "from matplotlib import pyplot as plt\n",
    "\n",
    "hep.style.use(hep.style.CMS)"
   ]
  },
  {
   "cell_type": "code",
   "execution_count": 11,
   "metadata": {},
   "outputs": [],
   "source": [
    "lumi_dict = {\n",
    "    \"2022\": 7.9714,\n",
    "    \"2022EE\": 26.337,\n",
    "    \"2023\": 17.981,\n",
    "    \"2023BPix\": 9.516,\n",
    "}\n"
   ]
  },
  {
   "cell_type": "code",
   "execution_count": 12,
   "metadata": {},
   "outputs": [],
   "source": [
    "eras = [\"2022\", \"2022EE\", \"2023BPix\", \"2023\"]\n",
    "WPs = {\"WP1\": [0.99, 1.], \"WP2\": [0.97, 0.99], \"WP3\": [0.94, 0.97], \"WP4\": [0.9, 0.94], \"WP5\": [0.8, 0.9]}\n",
    "pTs = {\"pT200to400\": [200, 400], \"pT400toInf\": [400, np.inf]}\n",
    "\n",
    "eff_dict = {}\n",
    "signals = [\"gghtobb\", \"vbfhtobb\", \"vhtobb\", \"novhhtobb\", \"tthtobb\"]\n",
    "\n",
    "for era in eras:\n",
    "    path = Path(f\"events/processed_events_{era}.pkl\")\n",
    "    if path.exists():\n",
    "        df_dict = pd.read_pickle(path)\n",
    "    else:\n",
    "        print(f\"File {path} not found\")\n",
    "        continue\n",
    "    \n",
    "    # Initialize nested dictionary for this era\n",
    "    eff_dict[era] = {pt_bin: {wp: 0 for wp in WPs.keys()} for pt_bin in pTs.keys()}\n",
    "    num_total = {pt_bin: 0 for pt_bin in pTs.keys()}\n",
    "    \n",
    "    for signal_type in df_dict.keys():\n",
    "        if signal_type not in signals:\n",
    "            continue\n",
    "        df = df_dict[signal_type]\n",
    "        \n",
    "        # Process each jet separately to properly pair TXbb scores with pT values\n",
    "        for jet_idx in [1, 2]:\n",
    "            TXbbs = df[f\"ak8FatJet{jet_idx}TXbb\"].to_numpy()\n",
    "            pTs_vals = df[f\"ak8FatJet{jet_idx}Pt\"].to_numpy()\n",
    "            \n",
    "            # Categorize by pT bins\n",
    "            for pt_bin, pt_range in pTs.items():\n",
    "                pt_mask = (pTs_vals >= pt_range[0]) & (pTs_vals < pt_range[1])\n",
    "                TXbbs_in_pt = TXbbs[pt_mask]\n",
    "                num_total[pt_bin] += len(TXbbs_in_pt)\n",
    "                \n",
    "                for wp, wp_range in WPs.items():\n",
    "                    wp_mask = (TXbbs_in_pt >= wp_range[0]) & (TXbbs_in_pt < wp_range[1])\n",
    "                    eff_dict[era][pt_bin][wp] += np.sum(wp_mask)\n",
    "    \n",
    "    # Calculate efficiencies\n",
    "    for pt_bin in pTs.keys():\n",
    "        if num_total[pt_bin] > 0:  # Avoid division by zero\n",
    "            for wp in WPs.keys():\n",
    "                eff_dict[era][pt_bin][wp] /= num_total[pt_bin]\n",
    "        else:\n",
    "            print(f\"No events found in {era} for {pt_bin}\")\n",
    "            eff_dict[era][pt_bin][wp] = -1"
   ]
  },
  {
   "cell_type": "code",
   "execution_count": 13,
   "metadata": {},
   "outputs": [],
   "source": [
    "import json\n",
    "with open(\"eff_WPs.json\", \"w\") as f:\n",
    "    json.dump(eff_dict, f)"
   ]
  },
  {
   "cell_type": "code",
   "execution_count": null,
   "metadata": {},
   "outputs": [],
   "source": [
    "fig, axs = plt.subplots(2, 2, figsize=(22.5, 22.5))\n",
    "\n",
    "colors = {\n",
    "    'WP1': 'blue',\n",
    "    'WP2': 'red',\n",
    "    'WP3': 'green',\n",
    "    'WP4': 'magenta',\n",
    "    'WP5': 'orange'\n",
    "}\n",
    "\n",
    "eras = ['2022', '2022EE', '2023BPix', '2023']\n",
    "luminosities = {\n",
    "    '2022': '7.9714',\n",
    "    '2022EE': '26.337',\n",
    "    '2023': '17.981',\n",
    "    '2023BPix': '9.516'\n",
    "}\n",
    "\n",
    "for idx, era in enumerate(eras):\n",
    "    i, j = idx // 2, idx % 2\n",
    "    ax = axs[i, j]\n",
    "    \n",
    "    # Plot each WP\n",
    "    for wp_idx, wp in enumerate(eff_dict[era]['pT200to400'].keys()):\n",
    "        # Get efficiencies for both pT bins\n",
    "        eff_low = eff_dict[era]['pT200to400'][wp]\n",
    "        eff_high = eff_dict[era]['pT400toInf'][wp]\n",
    "        \n",
    "        wp_low, wp_high = tuple(WPs[wp])\n",
    "        label = f\"{wp}: [{wp_low:.2f}, {wp_high:.2f})\"\n",
    "        ax.scatter([0, 1], [eff_low, eff_high], color=colors[wp], marker='o', label=label, s=100)\n",
    "    \n",
    "    # Customize each subplot\n",
    "    ax.set_ylim(0, 0.2)\n",
    "    ax.set_xlim(-0.5, 1.5)\n",
    "    ax.set_ylabel(\"Efficiency\")\n",
    "    ax.set_xticks([0, 1])\n",
    "    ax.set_xticklabels(['[200, 400)', '[400, ∞)'])\n",
    "    \n",
    "    # Add era labels and luminosity\n",
    "    lumi = lumi_dict[era]\n",
    "    hep.cms.label(\"Preliminary\", ax=ax, lumi=lumi, year=era)\n",
    "    \n",
    "    ax.set_xlabel(\"pT(j) [GeV]\")\n",
    "        \n",
    "    ax.grid(True, linestyle='--', alpha=0.3)\n",
    "    # ax.legend(loc='center right')\n",
    "    ax.legend()\n",
    "\n",
    "plt.tight_layout()\n",
    "plt.savefig(\"eff_WPs.pdf\")\n",
    "plt.show()"
   ]
  },
  {
   "cell_type": "code",
   "execution_count": null,
   "metadata": {},
   "outputs": [],
   "source": []
  }
 ],
 "metadata": {
  "kernelspec": {
   "display_name": "hbb-tagger",
   "language": "python",
   "name": "python3"
  },
  "language_info": {
   "codemirror_mode": {
    "name": "ipython",
    "version": 3
   },
   "file_extension": ".py",
   "mimetype": "text/x-python",
   "name": "python",
   "nbconvert_exporter": "python",
   "pygments_lexer": "ipython3",
   "version": "3.12.5"
  }
 },
 "nbformat": 4,
 "nbformat_minor": 2
}
