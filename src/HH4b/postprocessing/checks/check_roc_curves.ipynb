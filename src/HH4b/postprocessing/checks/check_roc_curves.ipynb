{
 "cells": [
  {
   "cell_type": "markdown",
   "metadata": {},
   "source": [
    "# Aggregate ROC Curves across Eras"
   ]
  },
  {
   "cell_type": "code",
   "execution_count": null,
   "metadata": {},
   "outputs": [],
   "source": [
    "import pickle\n",
    "import numpy as np\n",
    "from matplotlib import pyplot as plt\n",
    "import mplhep as hep\n",
    "from pathlib import Path\n",
    "\n",
    "hep.style.use(hep.style.CMS)\n",
    "RESULTS_DIR = Path(\"roc_curves\")\n",
    "if not RESULTS_DIR.exists():\n",
    "    raise RuntimeError(\"Run check_roc_curves.sh first.\")"
   ]
  },
  {
   "cell_type": "code",
   "execution_count": null,
   "metadata": {},
   "outputs": [],
   "source": [
    "eras = (\"2022\", \"2022EE\", \"2023BPix\", \"2023\")\n",
    "jet_idx = '0'\n",
    "tagger_label = 'ParTTXbb'\n",
    "\n",
    "roc_era = {}\n",
    "for era in eras:\n",
    "    with open(RESULTS_DIR / f'{era}/rocs.pkl', 'rb') as f:\n",
    "        roc_dict = pickle.load(f)\n",
    "    roc_dict = roc_dict[jet_idx]['rocs'][tagger_label]\n",
    "    roc_era[era] = roc_dict"
   ]
  },
  {
   "cell_type": "code",
   "execution_count": null,
   "metadata": {},
   "outputs": [],
   "source": [
    "for era in eras:\n",
    "    roc = roc_era[era]\n",
    "    fpr = roc['fpr']\n",
    "    tpr = roc['tpr']\n",
    "    plt.plot(tpr, fpr, label=era)\n",
    "\n",
    "plt.yscale(\"log\")\n",
    "plt.xlabel(r\"$\\epsilon_s$\")\n",
    "plt.ylabel(r\"$\\epsilon_b$\")\n",
    "plt.ylim((1e-4, 1))\n",
    "plt.legend()\n",
    "plt.tight_layout()\n",
    "plt.savefig(RESULTS_DIR / \"roc_curves.pdf\", bbox_inches='tight')\n",
    "    \n",
    "plt.show()"
   ]
  },
  {
   "cell_type": "code",
   "execution_count": null,
   "metadata": {},
   "outputs": [],
   "source": []
  }
 ],
 "metadata": {
  "kernelspec": {
   "display_name": "hh4b",
   "language": "python",
   "name": "python3"
  },
  "language_info": {
   "codemirror_mode": {
    "name": "ipython",
    "version": 3
   },
   "file_extension": ".py",
   "mimetype": "text/x-python",
   "name": "python",
   "nbconvert_exporter": "python",
   "pygments_lexer": "ipython3",
   "version": "3.10.16"
  }
 },
 "nbformat": 4,
 "nbformat_minor": 2
}
