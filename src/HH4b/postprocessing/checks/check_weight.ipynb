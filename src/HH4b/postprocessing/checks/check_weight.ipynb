{
 "cells": [
  {
   "cell_type": "code",
   "execution_count": 6,
   "metadata": {},
   "outputs": [],
   "source": [
    "from pathlib import Path\n",
    "import pandas as pd\n",
    "from matplotlib import pyplot as plt\n",
    "import mplhep as hep\n",
    "import numpy as np\n",
    "\n",
    "hep.style.use(hep.style.CMS)"
   ]
  },
  {
   "cell_type": "code",
   "execution_count": 7,
   "metadata": {},
   "outputs": [],
   "source": [
    "lumi_dict = {\n",
    "    \"2022\": 7.9714,\n",
    "    \"2022EE\": 26.337,\n",
    "    \"2023\": 17.981,\n",
    "    \"2023BPix\": 9.516,\n",
    "}"
   ]
  },
  {
   "cell_type": "code",
   "execution_count": 8,
   "metadata": {},
   "outputs": [],
   "source": [
    "eras = [\"2022\", \"2022EE\", \"2023BPix\", \"2023\"]\n",
    "dir_original = Path(\"events\")  # with btag weight\n",
    "dir_modified = Path(\"events_mod\") # without btag weight\n",
    "\n",
    "weight_dict = {}\n",
    "weight_key = \"trigger_weight\"\n",
    "# weight_key = \"weight\"\n",
    "\n",
    "for era in eras:\n",
    "    era_dict = {}\n",
    "    path = dir_original / Path(f\"processed_events_{era}.pkl\")\n",
    "    if path.exists():\n",
    "        df_dict = pd.read_pickle(path)\n",
    "    else:\n",
    "        print(f\"File {path} not found\")\n",
    "        continue\n",
    "    for signal_type in df_dict.keys():\n",
    "        if signal_type == \"data\":\n",
    "            continue\n",
    "        df = df_dict[signal_type]\n",
    "        weight = df[weight_key].to_numpy()\n",
    "        era_dict[signal_type] = {\"original\": weight}\n",
    "        \n",
    "    path = dir_modified / Path(f\"processed_events_{era}.pkl\")\n",
    "    if path.exists():\n",
    "        df_dict = pd.read_pickle(path)\n",
    "    else:\n",
    "        print(f\"File {path} not found\")\n",
    "        continue\n",
    "    for signal_type in df_dict.keys():\n",
    "        if signal_type == \"data\":\n",
    "            continue\n",
    "        df = df_dict[signal_type]\n",
    "        weight = df[weight_key].to_numpy()\n",
    "        era_dict[signal_type][\"modified\"] = weight\n",
    "    \n",
    "    weight_dict[era] = era_dict\n",
    "        "
   ]
  },
  {
   "cell_type": "code",
   "execution_count": 9,
   "metadata": {},
   "outputs": [],
   "source": [
    "hh4b_keys = [signal_type for signal_type in weight_dict[\"2022\"].keys() if \"hh4b\" in signal_type]\n",
    "hh4b_weight_dict = {}\n",
    "\n",
    "for era in eras:\n",
    "    if era not in weight_dict:\n",
    "        continue\n",
    "        \n",
    "    original_weight = []\n",
    "    modified_weight = []\n",
    "    \n",
    "    for signal_type in hh4b_keys:\n",
    "        if signal_type in weight_dict[era]:\n",
    "            # Concatenate original weight values\n",
    "            if \"original\" in weight_dict[era][signal_type]:\n",
    "                original_weight.append(weight_dict[era][signal_type][\"original\"])\n",
    "            \n",
    "            # Concatenate modified weight values\n",
    "            if \"modified\" in weight_dict[era][signal_type]:\n",
    "                modified_weight.append(weight_dict[era][signal_type][\"modified\"])\n",
    "    \n",
    "    # Combine all arrays for this era\n",
    "    if original_weight:  # Check if list is not empty\n",
    "        hh4b_weight_dict[era] = {\n",
    "            \"original\": np.concatenate(original_weight),\n",
    "            \"modified\": np.concatenate(modified_weight) if modified_weight else None\n",
    "        }"
   ]
  },
  {
   "cell_type": "code",
   "execution_count": null,
   "metadata": {},
   "outputs": [],
   "source": [
    "density = True\n",
    "fig, axs = plt.subplots(2, 2, figsize=(22, 22))\n",
    "\n",
    "for idx, era in enumerate(eras):\n",
    "    i, j = idx // 2, idx % 2\n",
    "    ax = axs[i, j]\n",
    "    \n",
    "    weights_original = hh4b_weight_dict[era][\"original\"]\n",
    "    weights_modified = hh4b_weight_dict[era][\"modified\"]\n",
    "    \n",
    "    if weight_key == \"trigger_weight\":\n",
    "        bins = np.linspace(0.5, 1.5, 80)\n",
    "    elif weight_key == \"weight\":\n",
    "        ax.set_xscale(\"log\")\n",
    "        bins = np.logspace(-10, 1, 100)\n",
    "    \n",
    "    ax.hist(weights_original, bins=bins, histtype=\"step\", label=\"with btag\", density=density, linestyle=\"--\")\n",
    "    ax.hist(weights_modified, bins=bins, histtype=\"step\", label=\"without btag\", density=density)\n",
    "    \n",
    "    lumi = lumi_dict[era]\n",
    "    hep.cms.label(\"Preliminary\", ax=ax, lumi=lumi, year=era)\n",
    "    \n",
    "    ax.set_xlabel(\"Trigger Weight\")\n",
    "    ax.set_ylabel(\"Density\")\n",
    "    ax.set_yscale(\"log\")\n",
    "    ax.legend()\n",
    "    \n",
    "plt.tight_layout()\n",
    "plt.savefig(f\"weight_comparison-{weight_key}.pdf\")\n",
    "plt.show()"
   ]
  },
  {
   "cell_type": "code",
   "execution_count": null,
   "metadata": {},
   "outputs": [],
   "source": []
  }
 ],
 "metadata": {
  "kernelspec": {
   "display_name": "hbb-tagger",
   "language": "python",
   "name": "python3"
  },
  "language_info": {
   "codemirror_mode": {
    "name": "ipython",
    "version": 3
   },
   "file_extension": ".py",
   "mimetype": "text/x-python",
   "name": "python",
   "nbconvert_exporter": "python",
   "pygments_lexer": "ipython3",
   "version": "3.12.5"
  }
 },
 "nbformat": 4,
 "nbformat_minor": 2
}
