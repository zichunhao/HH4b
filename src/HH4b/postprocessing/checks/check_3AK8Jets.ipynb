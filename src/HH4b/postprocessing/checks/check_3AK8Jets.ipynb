{
 "cells": [
  {
   "cell_type": "markdown",
   "metadata": {},
   "source": [
    "# Goal\n",
    "Number of events with three AK8 Jets with a high $T_{Xbb}$"
   ]
  },
  {
   "cell_type": "code",
   "execution_count": 1,
   "metadata": {},
   "outputs": [],
   "source": [
    "from pathlib import Path\n",
    "import pandas as pd"
   ]
  },
  {
   "cell_type": "code",
   "execution_count": null,
   "metadata": {},
   "outputs": [],
   "source": [
    "TXbb_th_1 = 0.9\n",
    "TXbb_th_2 = 0.9\n",
    "TXbb_th_3 = 0.9\n",
    "eras = [\"2022\", \"2022EE\", \"2023BPix\", \"2023\"]\n",
    "\n",
    "count_dict = {}\n",
    "\n",
    "for era in eras:\n",
    "    counts = {}\n",
    "    path = Path(f\"events/processed_events_{era}.pkl\")\n",
    "    if path.exists():\n",
    "        df_dict = pd.read_pickle(path)\n",
    "    else:\n",
    "        print(f\"File {path} not found\")\n",
    "        continue\n",
    "    for signal_type in df_dict.keys():\n",
    "        df = df_dict[signal_type]\n",
    "        mask = (df[\"ak8FatJet1TXbb\"] > TXbb_th_1) & (df[\"ak8FatJet2TXbb\"] > TXbb_th_2) & (df[\"ak8FatJet3TXbb\"] > TXbb_th_3)\n",
    "        \n",
    "        total_events = len(mask)\n",
    "        pass_events = mask.sum()\n",
    "        fraction = pass_events / total_events\n",
    "        print(f\"Era {era}, signal {signal_type}: {pass_events}/{total_events} = {fraction}\")\n",
    "        counts[signal_type] = {\n",
    "            \"all\": int(total_events),\n",
    "            \"pass\": int(pass_events),\n",
    "            \"fraction\": float(fraction)\n",
    "        }\n",
    "    \n",
    "    count_dict[era] = counts"
   ]
  },
  {
   "cell_type": "code",
   "execution_count": 3,
   "metadata": {},
   "outputs": [],
   "source": [
    "import json\n",
    "with open(\"counts_3AK8Jets.json\", \"w\") as f:\n",
    "    json.dump(count_dict, f)"
   ]
  },
  {
   "cell_type": "code",
   "execution_count": null,
   "metadata": {},
   "outputs": [],
   "source": []
  }
 ],
 "metadata": {
  "kernelspec": {
   "display_name": "hbb-tagger",
   "language": "python",
   "name": "python3"
  },
  "language_info": {
   "codemirror_mode": {
    "name": "ipython",
    "version": 3
   },
   "file_extension": ".py",
   "mimetype": "text/x-python",
   "name": "python",
   "nbconvert_exporter": "python",
   "pygments_lexer": "ipython3",
   "version": "3.12.5"
  }
 },
 "nbformat": 4,
 "nbformat_minor": 2
}
